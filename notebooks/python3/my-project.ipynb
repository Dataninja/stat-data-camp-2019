{
  "cells": [
    {
      "cell_type": "markdown",
      "source": [
        "# Rilevazione degli incidenti stradali con lesioni a persone\n",
        "\n",
        "La rilevazione degli incidenti stradali con lesioni a persone è svolta a cadenza mensile e rileva tutti gli incidenti stradali verificatisi nell’arco di un anno solare sull’intero territorio nazionale che hanno causato lesioni alle persone (morti entro il 30° giorno e feriti).\n",
        "\n",
        "Fonte: [ISTAT](https://www.istat.it/).\n",
        "\n",
        "* Dati: https://www.istat.it/it/archivio/87539\n",
        "* Metadati: https://www.istat.it/it/archivio/76750\n"
      ],
      "metadata": {}
    },
    {
      "cell_type": "markdown",
      "source": [
        "## Importazione dei moduli"
      ],
      "metadata": {}
    },
    {
      "cell_type": "code",
      "source": [
        "import os, re, io\n",
        "import pandas as pd"
      ],
      "outputs": [],
      "execution_count": 16,
      "metadata": {
        "collapsed": false,
        "outputHidden": false,
        "inputHidden": false
      }
    },
    {
      "cell_type": "markdown",
      "source": [
        "## Importazione dei dati"
      ],
      "metadata": {}
    },
    {
      "cell_type": "markdown",
      "source": [
        "Tutti i file di dati sono originali, scaricati dal sito ufficiale nella cartella `data/`.\n",
        "Il nome ha la forma `INCSTRAD_Microdati_Anno_[YYYY].txt` con `[YYYY]` uguale a 2010, 2011, 2012, 2013, 2014, 2015, 2016 e 2017.\n",
        "Si tratta di Tab-separated Values (TSV) con codifica `iso-8859-1`."
      ],
      "metadata": {}
    },
    {
      "cell_type": "code",
      "source": [
        "data_directory = \"../../data\"\n",
        "\n",
        "data_filenames = [\n",
        "    filename.replace(\".txt\",\"\")\n",
        "    for filename in os.listdir(data_directory)\n",
        "    if filename.endswith(\".txt\")\n",
        "]\n",
        "\n",
        "rows_to_skip = {\n",
        "    \"INCSTRAD_Microdati_Anno_2017\": [47753],\n",
        "    \"INCSTRAD_Microdati_Anno_2014\": [98015]\n",
        "}"
      ],
      "outputs": [],
      "execution_count": 17,
      "metadata": {
        "collapsed": false,
        "outputHidden": false,
        "inputHidden": false
      }
    },
    {
      "cell_type": "markdown",
      "source": [
        "Pulizia preliminare: i file sono letti come stringhe e vengono eliminati tutti gli spazi vuoti superflui."
      ],
      "metadata": {}
    },
    {
      "cell_type": "code",
      "source": [
        "data_csvs = {}\n",
        "for data_filename in data_filenames:\n",
        "    with open(\"%s/%s.txt\" % (data_directory, data_filename), encoding=\"iso-8859-1\") as f:\n",
        "        data_csvs[data_filename] = re.sub(r' {2,}', ' ', f.read())"
      ],
      "outputs": [],
      "execution_count": 18,
      "metadata": {
        "collapsed": false,
        "outputHidden": false,
        "inputHidden": false
      }
    },
    {
      "cell_type": "markdown",
      "source": [
        "I csv ripuliti sono trasformati in data frames usando la tabulazione come separatore di campo e scartando le righe malformate."
      ],
      "metadata": {}
    },
    {
      "cell_type": "code",
      "source": [
        "data_tables = {}\n",
        "for data_filename in data_csvs:\n",
        "    try:\n",
        "        data_tables[data_filename] = pd.read_csv(\n",
        "            io.StringIO(data_csvs[data_filename])\n",
        "            , sep=\"\\t\"\n",
        "            , skiprows=rows_to_skip[data_filename] if data_filename in rows_to_skip else []\n",
        "            , error_bad_lines=False\n",
        "        )\n",
        "    except Exception as e:\n",
        "        pass"
      ],
      "outputs": [
        {
          "output_type": "stream",
          "name": "stderr",
          "text": [
            "/home/jenkin/.local/share/virtualenvs/python3--AGPCuUz/lib/python3.7/site-packages/IPython/core/interactiveshell.py:3058: DtypeWarning: Columns (6,7,114,115) have mixed types. Specify dtype option on import or set low_memory=False.\n",
            "  interactivity=interactivity, compiler=compiler, result=result)\n",
            "/home/jenkin/.local/share/virtualenvs/python3--AGPCuUz/lib/python3.7/site-packages/IPython/core/interactiveshell.py:3058: DtypeWarning: Columns (7,114,115) have mixed types. Specify dtype option on import or set low_memory=False.\n",
            "  interactivity=interactivity, compiler=compiler, result=result)\n",
            "/home/jenkin/.local/share/virtualenvs/python3--AGPCuUz/lib/python3.7/site-packages/IPython/core/interactiveshell.py:3058: DtypeWarning: Columns (7,11) have mixed types. Specify dtype option on import or set low_memory=False.\n",
            "  interactivity=interactivity, compiler=compiler, result=result)\n",
            "/home/jenkin/.local/share/virtualenvs/python3--AGPCuUz/lib/python3.7/site-packages/IPython/core/interactiveshell.py:3058: DtypeWarning: Columns (7) have mixed types. Specify dtype option on import or set low_memory=False.\n",
            "  interactivity=interactivity, compiler=compiler, result=result)\n",
            "/home/jenkin/.local/share/virtualenvs/python3--AGPCuUz/lib/python3.7/site-packages/IPython/core/interactiveshell.py:3058: DtypeWarning: Columns (7,10,11) have mixed types. Specify dtype option on import or set low_memory=False.\n",
            "  interactivity=interactivity, compiler=compiler, result=result)\n",
            "b'Skipping line 98015: expected 117 fields, saw 118\\n'\n",
            "/home/jenkin/.local/share/virtualenvs/python3--AGPCuUz/lib/python3.7/site-packages/IPython/core/interactiveshell.py:3058: DtypeWarning: Columns (7,26,27,114,115) have mixed types. Specify dtype option on import or set low_memory=False.\n",
            "  interactivity=interactivity, compiler=compiler, result=result)\n"
          ]
        }
      ],
      "execution_count": 19,
      "metadata": {
        "collapsed": false,
        "outputHidden": true,
        "inputHidden": false,
        "outputExpanded": true,
        "tags": []
      }
    },
    {
      "cell_type": "markdown",
      "source": [
        "I metadati sono estratti dai file originali (da `html` a `tsv`), si trovano nella cartella `meta/` e si chiamano come il nome della variabile a cui si riferiscono."
      ],
      "metadata": {}
    },
    {
      "cell_type": "code",
      "source": [
        "meta_directory = \"../../meta\"\n",
        "\n",
        "meta_filenames = [\n",
        "    filename.replace(\".tsv\",\"\")\n",
        "    for filename in os.listdir(meta_directory)\n",
        "    if filename.endswith(\".tsv\")\n",
        "]\n",
        "\n",
        "meta_tables = {\n",
        "    filename: pd.read_csv(\"%s/%s.tsv\" % (meta_directory, filename), sep=\"\\t\")\n",
        "    for filename in meta_filenames\n",
        "}"
      ],
      "outputs": [],
      "execution_count": 20,
      "metadata": {
        "collapsed": false,
        "outputHidden": false,
        "inputHidden": false
      }
    },
    {
      "cell_type": "markdown",
      "source": [
        "## Costruzione del dataset di lavoro"
      ],
      "metadata": {}
    },
    {
      "cell_type": "markdown",
      "source": [
        "Unione di tutte le singole tabelle e join con i metadati."
      ],
      "metadata": {}
    },
    {
      "cell_type": "code",
      "source": [
        "all_data = pd.concat([data_tables[filename] for filename in data_tables], sort=False)\n",
        "\n",
        "for meta_filename in meta_tables:\n",
        "    all_data = all_data.join(\n",
        "        meta_tables[meta_filename].add_suffix(\"_%s\" % meta_filename).set_index(\"Modalità_%s\" % meta_filename),\n",
        "        on=meta_filename\n",
        "    )"
      ],
      "outputs": [],
      "execution_count": 21,
      "metadata": {
        "collapsed": false,
        "outputHidden": false,
        "inputHidden": false
      }
    },
    {
      "cell_type": "markdown",
      "source": [
        "Un'anteprima del dataset di lavoro (quasi 800k righe su 200 colonne), le colonne aggiuntive sono in fondo a destra."
      ],
      "metadata": {}
    },
    {
      "cell_type": "code",
      "source": [
        "all_data"
      ],
      "outputs": [
        {
          "output_type": "execute_result",
          "execution_count": 22,
          "data": {
            "text/plain": [
              "        anno  provincia  comune  giorno  organo_di_rilevazione  \\\n",
              "0         15          7      22     6.0                      2   \n",
              "1         15          7      31     7.0                      2   \n",
              "2         15          7      43     2.0                      2   \n",
              "3         15          7      44     2.0                      2   \n",
              "4         15          7      45     3.0                      2   \n",
              "...      ...        ...     ...     ...                    ...   \n",
              "175786    16         10      25     5.0                      4   \n",
              "175787    16         10      25     4.0                      4   \n",
              "175788    16         10      25     5.0                      4   \n",
              "175789    16         10      25     4.0                      4   \n",
              "175790    16         10      25     2.0                      4   \n",
              "\n",
              "        localizzazione_incidente denominazione_della_strada  \\\n",
              "0                              6                        026   \n",
              "1                              1                        020   \n",
              "2                              6                        026   \n",
              "3                              6                        026   \n",
              "4                              6                        026   \n",
              "...                          ...                        ...   \n",
              "175786                         1                        000   \n",
              "175787                         1                        000   \n",
              "175788                         1                        000   \n",
              "175789                         1                        000   \n",
              "175790                         1                        000   \n",
              "\n",
              "       tronco_di_strada_o_autostrada  tipo_di_strada  pavimentazione  ...  \\\n",
              "0                                  1               2               1  ...   \n",
              "1                                 12               2               1  ...   \n",
              "2                                 12               2               1  ...   \n",
              "3                                 12               2               1  ...   \n",
              "4                                 12               2               1  ...   \n",
              "...                              ...             ...             ...  ...   \n",
              "175786                            12               2               1  ...   \n",
              "175787                            12               1               1  ...   \n",
              "175788                            12               2               1  ...   \n",
              "175789                            12               2               1  ...   \n",
              "175790                            12               3               1  ...   \n",
              "\n",
              "        veicolo__c___altri_passegg61  veicolo__c___altri_passegg62  \\\n",
              "0                                NaN                           NaN   \n",
              "1                                NaN                           NaN   \n",
              "2                                NaN                           NaN   \n",
              "3                                NaN                           NaN   \n",
              "4                                NaN                           NaN   \n",
              "...                              ...                           ...   \n",
              "175786                           NaN                           NaN   \n",
              "175787                           NaN                           NaN   \n",
              "175788                           NaN                           NaN   \n",
              "175789                           NaN                           NaN   \n",
              "175790                           NaN                           NaN   \n",
              "\n",
              "        morti_maschi_coinvolti_su_63  morti_femmine_coinvolti_su64  \\\n",
              "0                                NaN                           NaN   \n",
              "1                                NaN                           NaN   \n",
              "2                                NaN                           NaN   \n",
              "3                                NaN                           NaN   \n",
              "4                                NaN                           NaN   \n",
              "...                              ...                           ...   \n",
              "175786                           NaN                           NaN   \n",
              "175787                           NaN                           NaN   \n",
              "175788                           NaN                           NaN   \n",
              "175789                           NaN                           NaN   \n",
              "175790                           NaN                           NaN   \n",
              "\n",
              "        feriti_maschi_coinvolti_su65  feriti_femmine_coinvolti_s66 numero  \\\n",
              "0                                NaN                           NaN    NaN   \n",
              "1                                NaN                           NaN    NaN   \n",
              "2                                NaN                           NaN    NaN   \n",
              "3                                NaN                           NaN    NaN   \n",
              "4                                NaN                           NaN    NaN   \n",
              "...                              ...                           ...    ...   \n",
              "175786                           NaN                           NaN    NaN   \n",
              "175787                           NaN                           NaN    NaN   \n",
              "175788                           NaN                           NaN    NaN   \n",
              "175789                           NaN                           NaN    NaN   \n",
              "175790                           NaN                           NaN    NaN   \n",
              "\n",
              "       peso      Descrizione_natura_incidente  \\\n",
              "0       NaN                 Urto con ostacolo   \n",
              "1       NaN          Fuoriuscita, sbandamento   \n",
              "2       NaN                 Urto con ostacolo   \n",
              "3       NaN          Fuoriuscita, sbandamento   \n",
              "4       NaN         Scontro frontale-laterale   \n",
              "...     ...                               ...   \n",
              "175786  NaN         Scontro frontale-laterale   \n",
              "175787  NaN  Infortunio per caduta da veicolo   \n",
              "175788  NaN         Scontro frontale-laterale   \n",
              "175789  NaN                      Tamponamento   \n",
              "175790  NaN         Scontro frontale-laterale   \n",
              "\n",
              "       Descrizione_condizioni_meteorologiche  \n",
              "0                                     Sereno  \n",
              "1                                     Sereno  \n",
              "2                                     Sereno  \n",
              "3                                     Sereno  \n",
              "4                                     Sereno  \n",
              "...                                      ...  \n",
              "175786                                Sereno  \n",
              "175787                               Pioggia  \n",
              "175788                                Sereno  \n",
              "175789                                Sereno  \n",
              "175790                                Sereno  \n",
              "\n",
              "[797999 rows x 196 columns]"
            ],
            "text/html": [
              "<div>\n",
              "<style scoped>\n",
              "    .dataframe tbody tr th:only-of-type {\n",
              "        vertical-align: middle;\n",
              "    }\n",
              "\n",
              "    .dataframe tbody tr th {\n",
              "        vertical-align: top;\n",
              "    }\n",
              "\n",
              "    .dataframe thead th {\n",
              "        text-align: right;\n",
              "    }\n",
              "</style>\n",
              "<table border=\"1\" class=\"dataframe\">\n",
              "  <thead>\n",
              "    <tr style=\"text-align: right;\">\n",
              "      <th></th>\n",
              "      <th>anno</th>\n",
              "      <th>provincia</th>\n",
              "      <th>comune</th>\n",
              "      <th>giorno</th>\n",
              "      <th>organo_di_rilevazione</th>\n",
              "      <th>localizzazione_incidente</th>\n",
              "      <th>denominazione_della_strada</th>\n",
              "      <th>tronco_di_strada_o_autostrada</th>\n",
              "      <th>tipo_di_strada</th>\n",
              "      <th>pavimentazione</th>\n",
              "      <th>...</th>\n",
              "      <th>veicolo__c___altri_passegg61</th>\n",
              "      <th>veicolo__c___altri_passegg62</th>\n",
              "      <th>morti_maschi_coinvolti_su_63</th>\n",
              "      <th>morti_femmine_coinvolti_su64</th>\n",
              "      <th>feriti_maschi_coinvolti_su65</th>\n",
              "      <th>feriti_femmine_coinvolti_s66</th>\n",
              "      <th>numero</th>\n",
              "      <th>peso</th>\n",
              "      <th>Descrizione_natura_incidente</th>\n",
              "      <th>Descrizione_condizioni_meteorologiche</th>\n",
              "    </tr>\n",
              "  </thead>\n",
              "  <tbody>\n",
              "    <tr>\n",
              "      <td>0</td>\n",
              "      <td>15</td>\n",
              "      <td>7</td>\n",
              "      <td>22</td>\n",
              "      <td>6.0</td>\n",
              "      <td>2</td>\n",
              "      <td>6</td>\n",
              "      <td>026</td>\n",
              "      <td>1</td>\n",
              "      <td>2</td>\n",
              "      <td>1</td>\n",
              "      <td>...</td>\n",
              "      <td>NaN</td>\n",
              "      <td>NaN</td>\n",
              "      <td>NaN</td>\n",
              "      <td>NaN</td>\n",
              "      <td>NaN</td>\n",
              "      <td>NaN</td>\n",
              "      <td>NaN</td>\n",
              "      <td>NaN</td>\n",
              "      <td>Urto con ostacolo</td>\n",
              "      <td>Sereno</td>\n",
              "    </tr>\n",
              "    <tr>\n",
              "      <td>1</td>\n",
              "      <td>15</td>\n",
              "      <td>7</td>\n",
              "      <td>31</td>\n",
              "      <td>7.0</td>\n",
              "      <td>2</td>\n",
              "      <td>1</td>\n",
              "      <td>020</td>\n",
              "      <td>12</td>\n",
              "      <td>2</td>\n",
              "      <td>1</td>\n",
              "      <td>...</td>\n",
              "      <td>NaN</td>\n",
              "      <td>NaN</td>\n",
              "      <td>NaN</td>\n",
              "      <td>NaN</td>\n",
              "      <td>NaN</td>\n",
              "      <td>NaN</td>\n",
              "      <td>NaN</td>\n",
              "      <td>NaN</td>\n",
              "      <td>Fuoriuscita, sbandamento</td>\n",
              "      <td>Sereno</td>\n",
              "    </tr>\n",
              "    <tr>\n",
              "      <td>2</td>\n",
              "      <td>15</td>\n",
              "      <td>7</td>\n",
              "      <td>43</td>\n",
              "      <td>2.0</td>\n",
              "      <td>2</td>\n",
              "      <td>6</td>\n",
              "      <td>026</td>\n",
              "      <td>12</td>\n",
              "      <td>2</td>\n",
              "      <td>1</td>\n",
              "      <td>...</td>\n",
              "      <td>NaN</td>\n",
              "      <td>NaN</td>\n",
              "      <td>NaN</td>\n",
              "      <td>NaN</td>\n",
              "      <td>NaN</td>\n",
              "      <td>NaN</td>\n",
              "      <td>NaN</td>\n",
              "      <td>NaN</td>\n",
              "      <td>Urto con ostacolo</td>\n",
              "      <td>Sereno</td>\n",
              "    </tr>\n",
              "    <tr>\n",
              "      <td>3</td>\n",
              "      <td>15</td>\n",
              "      <td>7</td>\n",
              "      <td>44</td>\n",
              "      <td>2.0</td>\n",
              "      <td>2</td>\n",
              "      <td>6</td>\n",
              "      <td>026</td>\n",
              "      <td>12</td>\n",
              "      <td>2</td>\n",
              "      <td>1</td>\n",
              "      <td>...</td>\n",
              "      <td>NaN</td>\n",
              "      <td>NaN</td>\n",
              "      <td>NaN</td>\n",
              "      <td>NaN</td>\n",
              "      <td>NaN</td>\n",
              "      <td>NaN</td>\n",
              "      <td>NaN</td>\n",
              "      <td>NaN</td>\n",
              "      <td>Fuoriuscita, sbandamento</td>\n",
              "      <td>Sereno</td>\n",
              "    </tr>\n",
              "    <tr>\n",
              "      <td>4</td>\n",
              "      <td>15</td>\n",
              "      <td>7</td>\n",
              "      <td>45</td>\n",
              "      <td>3.0</td>\n",
              "      <td>2</td>\n",
              "      <td>6</td>\n",
              "      <td>026</td>\n",
              "      <td>12</td>\n",
              "      <td>2</td>\n",
              "      <td>1</td>\n",
              "      <td>...</td>\n",
              "      <td>NaN</td>\n",
              "      <td>NaN</td>\n",
              "      <td>NaN</td>\n",
              "      <td>NaN</td>\n",
              "      <td>NaN</td>\n",
              "      <td>NaN</td>\n",
              "      <td>NaN</td>\n",
              "      <td>NaN</td>\n",
              "      <td>Scontro frontale-laterale</td>\n",
              "      <td>Sereno</td>\n",
              "    </tr>\n",
              "    <tr>\n",
              "      <td>...</td>\n",
              "      <td>...</td>\n",
              "      <td>...</td>\n",
              "      <td>...</td>\n",
              "      <td>...</td>\n",
              "      <td>...</td>\n",
              "      <td>...</td>\n",
              "      <td>...</td>\n",
              "      <td>...</td>\n",
              "      <td>...</td>\n",
              "      <td>...</td>\n",
              "      <td>...</td>\n",
              "      <td>...</td>\n",
              "      <td>...</td>\n",
              "      <td>...</td>\n",
              "      <td>...</td>\n",
              "      <td>...</td>\n",
              "      <td>...</td>\n",
              "      <td>...</td>\n",
              "      <td>...</td>\n",
              "      <td>...</td>\n",
              "      <td>...</td>\n",
              "    </tr>\n",
              "    <tr>\n",
              "      <td>175786</td>\n",
              "      <td>16</td>\n",
              "      <td>10</td>\n",
              "      <td>25</td>\n",
              "      <td>5.0</td>\n",
              "      <td>4</td>\n",
              "      <td>1</td>\n",
              "      <td>000</td>\n",
              "      <td>12</td>\n",
              "      <td>2</td>\n",
              "      <td>1</td>\n",
              "      <td>...</td>\n",
              "      <td>NaN</td>\n",
              "      <td>NaN</td>\n",
              "      <td>NaN</td>\n",
              "      <td>NaN</td>\n",
              "      <td>NaN</td>\n",
              "      <td>NaN</td>\n",
              "      <td>NaN</td>\n",
              "      <td>NaN</td>\n",
              "      <td>Scontro frontale-laterale</td>\n",
              "      <td>Sereno</td>\n",
              "    </tr>\n",
              "    <tr>\n",
              "      <td>175787</td>\n",
              "      <td>16</td>\n",
              "      <td>10</td>\n",
              "      <td>25</td>\n",
              "      <td>4.0</td>\n",
              "      <td>4</td>\n",
              "      <td>1</td>\n",
              "      <td>000</td>\n",
              "      <td>12</td>\n",
              "      <td>1</td>\n",
              "      <td>1</td>\n",
              "      <td>...</td>\n",
              "      <td>NaN</td>\n",
              "      <td>NaN</td>\n",
              "      <td>NaN</td>\n",
              "      <td>NaN</td>\n",
              "      <td>NaN</td>\n",
              "      <td>NaN</td>\n",
              "      <td>NaN</td>\n",
              "      <td>NaN</td>\n",
              "      <td>Infortunio per caduta da veicolo</td>\n",
              "      <td>Pioggia</td>\n",
              "    </tr>\n",
              "    <tr>\n",
              "      <td>175788</td>\n",
              "      <td>16</td>\n",
              "      <td>10</td>\n",
              "      <td>25</td>\n",
              "      <td>5.0</td>\n",
              "      <td>4</td>\n",
              "      <td>1</td>\n",
              "      <td>000</td>\n",
              "      <td>12</td>\n",
              "      <td>2</td>\n",
              "      <td>1</td>\n",
              "      <td>...</td>\n",
              "      <td>NaN</td>\n",
              "      <td>NaN</td>\n",
              "      <td>NaN</td>\n",
              "      <td>NaN</td>\n",
              "      <td>NaN</td>\n",
              "      <td>NaN</td>\n",
              "      <td>NaN</td>\n",
              "      <td>NaN</td>\n",
              "      <td>Scontro frontale-laterale</td>\n",
              "      <td>Sereno</td>\n",
              "    </tr>\n",
              "    <tr>\n",
              "      <td>175789</td>\n",
              "      <td>16</td>\n",
              "      <td>10</td>\n",
              "      <td>25</td>\n",
              "      <td>4.0</td>\n",
              "      <td>4</td>\n",
              "      <td>1</td>\n",
              "      <td>000</td>\n",
              "      <td>12</td>\n",
              "      <td>2</td>\n",
              "      <td>1</td>\n",
              "      <td>...</td>\n",
              "      <td>NaN</td>\n",
              "      <td>NaN</td>\n",
              "      <td>NaN</td>\n",
              "      <td>NaN</td>\n",
              "      <td>NaN</td>\n",
              "      <td>NaN</td>\n",
              "      <td>NaN</td>\n",
              "      <td>NaN</td>\n",
              "      <td>Tamponamento</td>\n",
              "      <td>Sereno</td>\n",
              "    </tr>\n",
              "    <tr>\n",
              "      <td>175790</td>\n",
              "      <td>16</td>\n",
              "      <td>10</td>\n",
              "      <td>25</td>\n",
              "      <td>2.0</td>\n",
              "      <td>4</td>\n",
              "      <td>1</td>\n",
              "      <td>000</td>\n",
              "      <td>12</td>\n",
              "      <td>3</td>\n",
              "      <td>1</td>\n",
              "      <td>...</td>\n",
              "      <td>NaN</td>\n",
              "      <td>NaN</td>\n",
              "      <td>NaN</td>\n",
              "      <td>NaN</td>\n",
              "      <td>NaN</td>\n",
              "      <td>NaN</td>\n",
              "      <td>NaN</td>\n",
              "      <td>NaN</td>\n",
              "      <td>Scontro frontale-laterale</td>\n",
              "      <td>Sereno</td>\n",
              "    </tr>\n",
              "  </tbody>\n",
              "</table>\n",
              "<p>797999 rows × 196 columns</p>\n",
              "</div>"
            ]
          },
          "metadata": {}
        }
      ],
      "execution_count": 22,
      "metadata": {
        "collapsed": false,
        "outputHidden": false,
        "inputHidden": false
      }
    },
    {
      "cell_type": "markdown",
      "source": [
        "## Conteggi per categoria (a.k.a. tabella pivot)"
      ],
      "metadata": {}
    },
    {
      "cell_type": "markdown",
      "source": [
        "Conteggio delle righe per le categorie di interesse per anno."
      ],
      "metadata": {}
    },
    {
      "cell_type": "code",
      "source": [
        "all_data_per_anno = {\n",
        "    filename: all_data.groupby(\"anno\")[\"Descrizione_%s\" % filename].value_counts().unstack()\n",
        "    for filename in meta_tables\n",
        "}"
      ],
      "outputs": [],
      "execution_count": 23,
      "metadata": {
        "collapsed": false,
        "outputHidden": false,
        "inputHidden": false
      }
    },
    {
      "cell_type": "markdown",
      "source": [
        "### Natura incidente\n",
        "\n",
        "Grafico del numero di incidenti per anno e per natura di incidente."
      ],
      "metadata": {}
    },
    {
      "cell_type": "code",
      "source": [
        "plot_natura_incidente_per_anno = all_data_per_anno[\"natura_incidente\"].plot.bar(\n",
        "    figsize=(24,18),\n",
        "    layout=(3,4),\n",
        "    subplots=True,\n",
        "    legend=False\n",
        ")"
      ],
      "outputs": [
        {
          "output_type": "display_data",
          "data": {
            "text/plain": [
              "<Figure size 1728x1296 with 12 Axes>"
            ],
            "image/png": "[encoded data removed]"
          },
          "metadata": {
            "needs_background": "light"
          }
        }
      ],
      "execution_count": 24,
      "metadata": {
        "collapsed": false,
        "outputHidden": false,
        "inputHidden": false
      }
    },
    {
      "cell_type": "markdown",
      "source": [
        "### Condizioni meteorologiche\n",
        "\n",
        "Grafico del numero di incidenti per anno e per condizioni meteorologiche."
      ],
      "metadata": {}
    },
    {
      "cell_type": "code",
      "source": [
        "plot_condizioni_meteorologiche_per_anno = all_data_per_anno[\"condizioni_meteorologiche\"].plot.bar(\n",
        "    figsize=(24,18),\n",
        "    layout=(3,4),\n",
        "    subplots=True,\n",
        "    legend=False\n",
        ")"
      ],
      "outputs": [
        {
          "output_type": "display_data",
          "data": {
            "text/plain": [
              "<Figure size 1728x1296 with 12 Axes>"
            ],
            "image/png": "[encoded data removed]"
          },
          "metadata": {
            "needs_background": "light"
          }
        }
      ],
      "execution_count": 25,
      "metadata": {
        "collapsed": false,
        "outputHidden": false,
        "inputHidden": false
      }
    }
  ],
  "metadata": {
    "kernel_info": {
      "name": "python3"
    },
    "language_info": {
      "name": "python",
      "version": "3.7.3",
      "mimetype": "text/x-python",
      "codemirror_mode": {
        "name": "ipython",
        "version": 3
      },
      "pygments_lexer": "ipython3",
      "nbconvert_exporter": "python",
      "file_extension": ".py"
    },
    "kernelspec": {
      "name": "python3",
      "language": "python",
      "display_name": "Python 3"
    },
    "nteract": {
      "version": "0.15.0"
    }
  },
  "nbformat": 4,
  "nbformat_minor": 0
}